{
 "cells": [
  {
   "cell_type": "markdown",
   "metadata": {},
   "source": [
    "# Immigrant Project \n",
    "\n",
    "### Cross-Generational Differences between Mexican and Non-Mexican Immigrants, 1994-2016\n",
    "\n",
    "1. Difference in outcomes between Mexican and Non-Mexican\n",
    "\n",
    "  * LTHS: “% less than HS diploma”\n",
    "  * College: “% with college degree”\n",
    "  *\tHinsured: “% with health insurance”\n",
    "  * rincp_all: “Average individual real income”\n",
    "  *\temployed: “% employed”\n",
    "  *\tmarried2: “% married”\n",
    "  *\tchildren: “% with children”\n",
    "  * poverty; (% of families under the poverty line)\n",
    "  * age; (Average age)\n",
    "  * rinch_all; (median household income);"
   ]
  },
  {
   "cell_type": "code",
   "execution_count": 1,
   "metadata": {
    "collapsed": true
   },
   "outputs": [],
   "source": [
    "import pandas as pd\n",
    "import os\n",
    "import plotly.graph_objs as go\n",
    "import dash\n",
    "import dash_core_components as dcc\n",
    "import dash_html_components as html\n",
    "from dash.dependencies import Input, Output, State"
   ]
  },
  {
   "cell_type": "code",
   "execution_count": 2,
   "metadata": {
    "collapsed": true
   },
   "outputs": [],
   "source": [
    "os.chdir(r'H:\\CALDER\\CALDER Data Visualizations\\Data\\Immigrant Project')"
   ]
  },
  {
   "cell_type": "code",
   "execution_count": 3,
   "metadata": {
    "collapsed": true
   },
   "outputs": [],
   "source": [
    "mex = pd.read_csv('main_national_mexican_outcomes.csv')"
   ]
  },
  {
   "cell_type": "code",
   "execution_count": 4,
   "metadata": {},
   "outputs": [
    {
     "data": {
      "text/html": [
       "<div>\n",
       "<style>\n",
       "    .dataframe thead tr:only-child th {\n",
       "        text-align: right;\n",
       "    }\n",
       "\n",
       "    .dataframe thead th {\n",
       "        text-align: left;\n",
       "    }\n",
       "\n",
       "    .dataframe tbody tr th {\n",
       "        vertical-align: top;\n",
       "    }\n",
       "</style>\n",
       "<table border=\"1\" class=\"dataframe\">\n",
       "  <thead>\n",
       "    <tr style=\"text-align: right;\">\n",
       "      <th></th>\n",
       "      <th>year</th>\n",
       "      <th>wbhao</th>\n",
       "      <th>igen</th>\n",
       "      <th>lths</th>\n",
       "      <th>scol</th>\n",
       "      <th>college</th>\n",
       "      <th>hinsured</th>\n",
       "      <th>employed</th>\n",
       "      <th>married2</th>\n",
       "      <th>rincp_all</th>\n",
       "    </tr>\n",
       "  </thead>\n",
       "  <tbody>\n",
       "    <tr>\n",
       "      <th>2</th>\n",
       "      <td>1994</td>\n",
       "      <td>Hispanic</td>\n",
       "      <td>1st Generation</td>\n",
       "      <td>0.635650</td>\n",
       "      <td>0.165253</td>\n",
       "      <td>0.062816</td>\n",
       "      <td>0.513281</td>\n",
       "      <td>0.668500</td>\n",
       "      <td>0.736285</td>\n",
       "      <td>20407.268</td>\n",
       "    </tr>\n",
       "    <tr>\n",
       "      <th>3</th>\n",
       "      <td>1994</td>\n",
       "      <td>Hispanic</td>\n",
       "      <td>2nd Generation</td>\n",
       "      <td>0.281591</td>\n",
       "      <td>0.406518</td>\n",
       "      <td>0.093455</td>\n",
       "      <td>0.746052</td>\n",
       "      <td>0.749383</td>\n",
       "      <td>0.641707</td>\n",
       "      <td>32315.545</td>\n",
       "    </tr>\n",
       "    <tr>\n",
       "      <th>4</th>\n",
       "      <td>1995</td>\n",
       "      <td>Hispanic</td>\n",
       "      <td>1st Generation</td>\n",
       "      <td>0.642687</td>\n",
       "      <td>0.142032</td>\n",
       "      <td>0.046193</td>\n",
       "      <td>0.489545</td>\n",
       "      <td>0.651424</td>\n",
       "      <td>0.734477</td>\n",
       "      <td>22044.225</td>\n",
       "    </tr>\n",
       "    <tr>\n",
       "      <th>5</th>\n",
       "      <td>1995</td>\n",
       "      <td>Hispanic</td>\n",
       "      <td>2nd Generation</td>\n",
       "      <td>0.270727</td>\n",
       "      <td>0.369339</td>\n",
       "      <td>0.085901</td>\n",
       "      <td>0.696145</td>\n",
       "      <td>0.724760</td>\n",
       "      <td>0.635118</td>\n",
       "      <td>31656.129</td>\n",
       "    </tr>\n",
       "  </tbody>\n",
       "</table>\n",
       "</div>"
      ],
      "text/plain": [
       "   year     wbhao            igen      lths      scol   college  hinsured  \\\n",
       "2  1994  Hispanic  1st Generation  0.635650  0.165253  0.062816  0.513281   \n",
       "3  1994  Hispanic  2nd Generation  0.281591  0.406518  0.093455  0.746052   \n",
       "4  1995  Hispanic  1st Generation  0.642687  0.142032  0.046193  0.489545   \n",
       "5  1995  Hispanic  2nd Generation  0.270727  0.369339  0.085901  0.696145   \n",
       "\n",
       "   employed  married2  rincp_all  \n",
       "2  0.668500  0.736285  20407.268  \n",
       "3  0.749383  0.641707  32315.545  \n",
       "4  0.651424  0.734477  22044.225  \n",
       "5  0.724760  0.635118  31656.129  "
      ]
     },
     "execution_count": 4,
     "metadata": {},
     "output_type": "execute_result"
    }
   ],
   "source": [
    "mex = mex.sort_values(by=['year', 'igen', 'wbhao'])\n",
    "mex.head(4)"
   ]
  },
  {
   "cell_type": "code",
   "execution_count": 5,
   "metadata": {},
   "outputs": [
    {
     "data": {
      "text/plain": [
       "Index(['year', 'wbhao', 'igen', '% less than High School diploma', 'scol',\n",
       "       '% with College Degree', '% with Health Insurance', '% Employed',\n",
       "       '% Married', 'Median Individual Real Income'],\n",
       "      dtype='object')"
      ]
     },
     "execution_count": 5,
     "metadata": {},
     "output_type": "execute_result"
    }
   ],
   "source": [
    "# Rename Columns\n",
    "pre = ['lths', 'college', 'hinsured', 'employed', 'married2', 'rincp_all']\n",
    "post = [\"% less than High School diploma\", \"% with College Degree\", \"% with Health Insurance\", \"% Employed\", \"% Married\",  \n",
    "        \"Median Individual Real Income\"]\n",
    "for i in range(0, len(pre)):   \n",
    "    mex.rename(columns={pre[i]: post[i]}, inplace=True)\n",
    "\n",
    "mex.columns"
   ]
  },
  {
   "cell_type": "code",
   "execution_count": 6,
   "metadata": {
    "collapsed": true
   },
   "outputs": [],
   "source": [
    "# Will need to double check with Umut but I think this is supposed to say \"Mexican\"\n",
    "mex['wbhao'] = 'Mexican'"
   ]
  },
  {
   "cell_type": "code",
   "execution_count": 7,
   "metadata": {
    "collapsed": true
   },
   "outputs": [],
   "source": [
    "mex['wbhao_igen'] = mex['wbhao'] + ' ' + mex['igen']"
   ]
  },
  {
   "cell_type": "markdown",
   "metadata": {},
   "source": [
    "## Append \"main_national_nonmexican_outcomes\" data set\n",
    "\n",
    "There will be two graphs side by side for mexican and non-mexican outcomes"
   ]
  },
  {
   "cell_type": "markdown",
   "metadata": {},
   "source": [
    "### Import and Clean \"non_mexican\" data"
   ]
  },
  {
   "cell_type": "code",
   "execution_count": 8,
   "metadata": {
    "collapsed": true
   },
   "outputs": [],
   "source": [
    "nonmex = pd.read_csv('main_national_nonmexican_outcomes.csv')"
   ]
  },
  {
   "cell_type": "code",
   "execution_count": 9,
   "metadata": {
    "scrolled": true
   },
   "outputs": [
    {
     "data": {
      "text/html": [
       "<div>\n",
       "<style>\n",
       "    .dataframe thead tr:only-child th {\n",
       "        text-align: right;\n",
       "    }\n",
       "\n",
       "    .dataframe thead th {\n",
       "        text-align: left;\n",
       "    }\n",
       "\n",
       "    .dataframe tbody tr th {\n",
       "        vertical-align: top;\n",
       "    }\n",
       "</style>\n",
       "<table border=\"1\" class=\"dataframe\">\n",
       "  <thead>\n",
       "    <tr style=\"text-align: right;\">\n",
       "      <th></th>\n",
       "      <th>year</th>\n",
       "      <th>wbhao</th>\n",
       "      <th>igen</th>\n",
       "      <th>lths</th>\n",
       "      <th>scol</th>\n",
       "      <th>college</th>\n",
       "      <th>hinsured</th>\n",
       "      <th>employed</th>\n",
       "      <th>married2</th>\n",
       "      <th>children</th>\n",
       "      <th>rincp_all</th>\n",
       "    </tr>\n",
       "  </thead>\n",
       "  <tbody>\n",
       "    <tr>\n",
       "      <th>2</th>\n",
       "      <td>1994</td>\n",
       "      <td>Hispanic</td>\n",
       "      <td>1st Generation</td>\n",
       "      <td>0.331588</td>\n",
       "      <td>0.368344</td>\n",
       "      <td>0.146984</td>\n",
       "      <td>0.629577</td>\n",
       "      <td>0.692032</td>\n",
       "      <td>0.627482</td>\n",
       "      <td>0.641982</td>\n",
       "      <td>24317.447</td>\n",
       "    </tr>\n",
       "    <tr>\n",
       "      <th>3</th>\n",
       "      <td>1994</td>\n",
       "      <td>Hispanic</td>\n",
       "      <td>2nd Generation</td>\n",
       "      <td>0.262855</td>\n",
       "      <td>0.390366</td>\n",
       "      <td>0.137572</td>\n",
       "      <td>0.765124</td>\n",
       "      <td>0.608660</td>\n",
       "      <td>0.532547</td>\n",
       "      <td>0.556165</td>\n",
       "      <td>37990.156</td>\n",
       "    </tr>\n",
       "    <tr>\n",
       "      <th>4</th>\n",
       "      <td>1995</td>\n",
       "      <td>Hispanic</td>\n",
       "      <td>1st Generation</td>\n",
       "      <td>0.308727</td>\n",
       "      <td>0.387672</td>\n",
       "      <td>0.158321</td>\n",
       "      <td>0.603753</td>\n",
       "      <td>0.734029</td>\n",
       "      <td>0.657320</td>\n",
       "      <td>0.657924</td>\n",
       "      <td>25507.232</td>\n",
       "    </tr>\n",
       "    <tr>\n",
       "      <th>5</th>\n",
       "      <td>1995</td>\n",
       "      <td>Hispanic</td>\n",
       "      <td>2nd Generation</td>\n",
       "      <td>0.241685</td>\n",
       "      <td>0.419642</td>\n",
       "      <td>0.146152</td>\n",
       "      <td>0.816201</td>\n",
       "      <td>0.685009</td>\n",
       "      <td>0.537695</td>\n",
       "      <td>0.634993</td>\n",
       "      <td>37985.453</td>\n",
       "    </tr>\n",
       "  </tbody>\n",
       "</table>\n",
       "</div>"
      ],
      "text/plain": [
       "   year     wbhao            igen      lths      scol   college  hinsured  \\\n",
       "2  1994  Hispanic  1st Generation  0.331588  0.368344  0.146984  0.629577   \n",
       "3  1994  Hispanic  2nd Generation  0.262855  0.390366  0.137572  0.765124   \n",
       "4  1995  Hispanic  1st Generation  0.308727  0.387672  0.158321  0.603753   \n",
       "5  1995  Hispanic  2nd Generation  0.241685  0.419642  0.146152  0.816201   \n",
       "\n",
       "   employed  married2  children  rincp_all  \n",
       "2  0.692032  0.627482  0.641982  24317.447  \n",
       "3  0.608660  0.532547  0.556165  37990.156  \n",
       "4  0.734029  0.657320  0.657924  25507.232  \n",
       "5  0.685009  0.537695  0.634993  37985.453  "
      ]
     },
     "execution_count": 9,
     "metadata": {},
     "output_type": "execute_result"
    }
   ],
   "source": [
    "nonmex = nonmex.sort_values(by=['year', 'igen', 'wbhao'])\n",
    "nonmex.head(4)"
   ]
  },
  {
   "cell_type": "code",
   "execution_count": 10,
   "metadata": {},
   "outputs": [
    {
     "data": {
      "text/plain": [
       "Index(['year', 'wbhao', 'igen', '% less than High School diploma', 'scol',\n",
       "       '% with College Degree', '% with Health Insurance', '% Employed',\n",
       "       '% Married', 'children', 'Median Individual Real Income'],\n",
       "      dtype='object')"
      ]
     },
     "execution_count": 10,
     "metadata": {},
     "output_type": "execute_result"
    }
   ],
   "source": [
    "# Rename Columns\n",
    "pre = ['lths', 'college', 'hinsured', 'employed', 'married2', 'rincp_all']\n",
    "post = [\"% less than High School diploma\", \"% with College Degree\", \"% with Health Insurance\", \"% Employed\", \"% Married\",  \n",
    "        \"Median Individual Real Income\"]\n",
    "for i in range(0, len(pre)):   \n",
    "    nonmex.rename(columns={pre[i]: post[i]}, inplace=True)\n",
    "\n",
    "nonmex.columns"
   ]
  },
  {
   "cell_type": "code",
   "execution_count": 11,
   "metadata": {
    "collapsed": true
   },
   "outputs": [],
   "source": [
    "nonmex = nonmex[['year', 'wbhao', 'igen', '% less than High School diploma','% with College Degree', \n",
    "                 '% with Health Insurance', '% Employed', '% Married', 'Median Individual Real Income']]"
   ]
  },
  {
   "cell_type": "code",
   "execution_count": 12,
   "metadata": {
    "collapsed": true
   },
   "outputs": [],
   "source": [
    "# Will need to double check with Umut but I think this is supposed to say \"Non-Mexican\"\n",
    "nonmex['wbhao'] = 'Non-Mexican'"
   ]
  },
  {
   "cell_type": "code",
   "execution_count": 13,
   "metadata": {
    "collapsed": true
   },
   "outputs": [],
   "source": [
    "nonmex['wbhao_igen'] = nonmex['wbhao'] + ' ' + nonmex['igen']"
   ]
  },
  {
   "cell_type": "markdown",
   "metadata": {},
   "source": [
    "### Append"
   ]
  },
  {
   "cell_type": "code",
   "execution_count": 14,
   "metadata": {
    "collapsed": true
   },
   "outputs": [],
   "source": [
    "append = mex.append(nonmex)"
   ]
  },
  {
   "cell_type": "code",
   "execution_count": 15,
   "metadata": {
    "collapsed": true
   },
   "outputs": [],
   "source": [
    "append = append.sort_values(by=['year', 'wbhao', 'igen'])"
   ]
  },
  {
   "cell_type": "code",
   "execution_count": 16,
   "metadata": {
    "scrolled": true
   },
   "outputs": [
    {
     "data": {
      "text/html": [
       "<div>\n",
       "<style>\n",
       "    .dataframe thead tr:only-child th {\n",
       "        text-align: right;\n",
       "    }\n",
       "\n",
       "    .dataframe thead th {\n",
       "        text-align: left;\n",
       "    }\n",
       "\n",
       "    .dataframe tbody tr th {\n",
       "        vertical-align: top;\n",
       "    }\n",
       "</style>\n",
       "<table border=\"1\" class=\"dataframe\">\n",
       "  <thead>\n",
       "    <tr style=\"text-align: right;\">\n",
       "      <th></th>\n",
       "      <th>% Employed</th>\n",
       "      <th>% Married</th>\n",
       "      <th>% less than High School diploma</th>\n",
       "      <th>% with College Degree</th>\n",
       "      <th>% with Health Insurance</th>\n",
       "      <th>Median Individual Real Income</th>\n",
       "      <th>igen</th>\n",
       "      <th>scol</th>\n",
       "      <th>wbhao</th>\n",
       "      <th>wbhao_igen</th>\n",
       "      <th>year</th>\n",
       "    </tr>\n",
       "  </thead>\n",
       "  <tbody>\n",
       "    <tr>\n",
       "      <th>2</th>\n",
       "      <td>0.668500</td>\n",
       "      <td>0.736285</td>\n",
       "      <td>0.635650</td>\n",
       "      <td>0.062816</td>\n",
       "      <td>0.513281</td>\n",
       "      <td>20407.268</td>\n",
       "      <td>1st Generation</td>\n",
       "      <td>0.165253</td>\n",
       "      <td>Mexican</td>\n",
       "      <td>Mexican 1st Generation</td>\n",
       "      <td>1994</td>\n",
       "    </tr>\n",
       "    <tr>\n",
       "      <th>3</th>\n",
       "      <td>0.749383</td>\n",
       "      <td>0.641707</td>\n",
       "      <td>0.281591</td>\n",
       "      <td>0.093455</td>\n",
       "      <td>0.746052</td>\n",
       "      <td>32315.545</td>\n",
       "      <td>2nd Generation</td>\n",
       "      <td>0.406518</td>\n",
       "      <td>Mexican</td>\n",
       "      <td>Mexican 2nd Generation</td>\n",
       "      <td>1994</td>\n",
       "    </tr>\n",
       "    <tr>\n",
       "      <th>2</th>\n",
       "      <td>0.692032</td>\n",
       "      <td>0.627482</td>\n",
       "      <td>0.331588</td>\n",
       "      <td>0.146984</td>\n",
       "      <td>0.629577</td>\n",
       "      <td>24317.447</td>\n",
       "      <td>1st Generation</td>\n",
       "      <td>NaN</td>\n",
       "      <td>Non-Mexican</td>\n",
       "      <td>Non-Mexican 1st Generation</td>\n",
       "      <td>1994</td>\n",
       "    </tr>\n",
       "    <tr>\n",
       "      <th>3</th>\n",
       "      <td>0.608660</td>\n",
       "      <td>0.532547</td>\n",
       "      <td>0.262855</td>\n",
       "      <td>0.137572</td>\n",
       "      <td>0.765124</td>\n",
       "      <td>37990.156</td>\n",
       "      <td>2nd Generation</td>\n",
       "      <td>NaN</td>\n",
       "      <td>Non-Mexican</td>\n",
       "      <td>Non-Mexican 2nd Generation</td>\n",
       "      <td>1994</td>\n",
       "    </tr>\n",
       "    <tr>\n",
       "      <th>4</th>\n",
       "      <td>0.651424</td>\n",
       "      <td>0.734477</td>\n",
       "      <td>0.642687</td>\n",
       "      <td>0.046193</td>\n",
       "      <td>0.489545</td>\n",
       "      <td>22044.225</td>\n",
       "      <td>1st Generation</td>\n",
       "      <td>0.142032</td>\n",
       "      <td>Mexican</td>\n",
       "      <td>Mexican 1st Generation</td>\n",
       "      <td>1995</td>\n",
       "    </tr>\n",
       "    <tr>\n",
       "      <th>5</th>\n",
       "      <td>0.724760</td>\n",
       "      <td>0.635118</td>\n",
       "      <td>0.270727</td>\n",
       "      <td>0.085901</td>\n",
       "      <td>0.696145</td>\n",
       "      <td>31656.129</td>\n",
       "      <td>2nd Generation</td>\n",
       "      <td>0.369339</td>\n",
       "      <td>Mexican</td>\n",
       "      <td>Mexican 2nd Generation</td>\n",
       "      <td>1995</td>\n",
       "    </tr>\n",
       "  </tbody>\n",
       "</table>\n",
       "</div>"
      ],
      "text/plain": [
       "   % Employed  % Married  % less than High School diploma  \\\n",
       "2    0.668500   0.736285                         0.635650   \n",
       "3    0.749383   0.641707                         0.281591   \n",
       "2    0.692032   0.627482                         0.331588   \n",
       "3    0.608660   0.532547                         0.262855   \n",
       "4    0.651424   0.734477                         0.642687   \n",
       "5    0.724760   0.635118                         0.270727   \n",
       "\n",
       "   % with College Degree  % with Health Insurance  \\\n",
       "2               0.062816                 0.513281   \n",
       "3               0.093455                 0.746052   \n",
       "2               0.146984                 0.629577   \n",
       "3               0.137572                 0.765124   \n",
       "4               0.046193                 0.489545   \n",
       "5               0.085901                 0.696145   \n",
       "\n",
       "   Median Individual Real Income            igen      scol        wbhao  \\\n",
       "2                      20407.268  1st Generation  0.165253      Mexican   \n",
       "3                      32315.545  2nd Generation  0.406518      Mexican   \n",
       "2                      24317.447  1st Generation       NaN  Non-Mexican   \n",
       "3                      37990.156  2nd Generation       NaN  Non-Mexican   \n",
       "4                      22044.225  1st Generation  0.142032      Mexican   \n",
       "5                      31656.129  2nd Generation  0.369339      Mexican   \n",
       "\n",
       "                   wbhao_igen  year  \n",
       "2      Mexican 1st Generation  1994  \n",
       "3      Mexican 2nd Generation  1994  \n",
       "2  Non-Mexican 1st Generation  1994  \n",
       "3  Non-Mexican 2nd Generation  1994  \n",
       "4      Mexican 1st Generation  1995  \n",
       "5      Mexican 2nd Generation  1995  "
      ]
     },
     "execution_count": 16,
     "metadata": {},
     "output_type": "execute_result"
    }
   ],
   "source": [
    "append.head(6)"
   ]
  },
  {
   "cell_type": "markdown",
   "metadata": {},
   "source": [
    "## Export data\n",
    "\n",
    "Export to git repository"
   ]
  },
  {
   "cell_type": "code",
   "execution_count": 17,
   "metadata": {
    "collapsed": true
   },
   "outputs": [],
   "source": [
    "os.chdir('H:\\CALDER\\CALDER Data Visualizations\\Git\\Immigrant-Project\\Graph 6')"
   ]
  },
  {
   "cell_type": "code",
   "execution_count": 18,
   "metadata": {
    "collapsed": true
   },
   "outputs": [],
   "source": [
    "append.to_csv('clean_national_mexican_outcomes.csv')"
   ]
  },
  {
   "cell_type": "markdown",
   "metadata": {},
   "source": [
    "## Graph"
   ]
  },
  {
   "cell_type": "code",
   "execution_count": 19,
   "metadata": {},
   "outputs": [
    {
     "name": "stderr",
     "output_type": "stream",
     "text": [
      " * Running on http://127.0.0.1:8050/ (Press CTRL+C to quit)\n",
      "127.0.0.1 - - [18/Apr/2018 09:42:03] \"GET / HTTP/1.1\" 200 -\n",
      "127.0.0.1 - - [18/Apr/2018 09:42:04] \"GET /_dash-layout HTTP/1.1\" 200 -\n",
      "127.0.0.1 - - [18/Apr/2018 09:42:04] \"GET /_dash-dependencies HTTP/1.1\" 200 -\n",
      "127.0.0.1 - - [18/Apr/2018 09:42:04] \"GET /favicon.ico HTTP/1.1\" 200 -\n",
      "127.0.0.1 - - [18/Apr/2018 09:42:04] \"POST /_dash-update-component HTTP/1.1\" 200 -\n",
      "127.0.0.1 - - [18/Apr/2018 09:42:04] \"POST /_dash-update-component HTTP/1.1\" 200 -\n",
      "127.0.0.1 - - [18/Apr/2018 09:42:06] \"POST /_dash-update-component HTTP/1.1\" 200 -\n",
      "127.0.0.1 - - [18/Apr/2018 09:42:06] \"POST /_dash-update-component HTTP/1.1\" 200 -\n",
      "127.0.0.1 - - [18/Apr/2018 09:42:08] \"POST /_dash-update-component HTTP/1.1\" 200 -\n",
      "127.0.0.1 - - [18/Apr/2018 09:42:08] \"POST /_dash-update-component HTTP/1.1\" 200 -\n"
     ]
    }
   ],
   "source": [
    "app = dash.Dash()\n",
    "\n",
    "app.css.append_css({\"external_url\": \"https://codepen.io/chriddyp/pen/bWLwgP.css\"}) \n",
    "\n",
    "# df = append\n",
    "df = pd.read_csv('https://raw.githubusercontent.com/otteheng/Immigrant-Project/master/Graph%206/clean_national_mexican_outcomes.csv?_sm_au_=iMVn4WnLFkrJ0btq')\n",
    "\n",
    "outcomes = [\"% less than High School diploma\", \"% with College Degree\", \"% with Health Insurance\", \"% Employed\", \n",
    "            \"% Married\", \"Median Individual Real Income\"]\n",
    "\n",
    "# Organize where items will be on the page\n",
    "app.layout = html.Div([\n",
    "        html.H3(\n",
    "            children='Differences in Educational Attainment between First and Second Generation Hispanic Immigrants, 1994-2016, by Mexican Origin',\n",
    "            style={\n",
    "                'textAlign': 'center', 'fontFamily' : 'Georgia'\n",
    "            }\n",
    "        ),\n",
    "        html.Center([          \n",
    "            html.Div([\n",
    "                html.Div([html.P('Select Outcome',id='outcome-title')],\n",
    "                    style={'textAlign': 'center', 'fontFamily': 'Georgia'}),\n",
    "                dcc.Dropdown(\n",
    "                    id='outcome-id',\n",
    "                    options=[{'label': i, 'value': i} for i in outcomes],\n",
    "                    value='% less than High School diploma')\n",
    "                ],style={'width': '50%','textAlign': 'center', 'fontFamily': 'Georgia', 'display': 'inline-block'}),        \n",
    "            ]),\n",
    "        html.Div([\n",
    "            html.Div([\n",
    "                dcc.Graph(id='indicator-graphic1',\n",
    "                          config={'modeBarButtonsToRemove': ['sendDataToCloud', 'lasso2d', 'zoomIn2d', 'zoomOut2d', 'pan2d', \n",
    "                                                             'zoom2d','resetScale2d'], \n",
    "                                'displaylogo': False})\n",
    "                ], style={'width': '50%', 'display': 'inline-block'}),  \n",
    "            html.Div([\n",
    "                dcc.Graph(id='indicator-graphic2',\n",
    "                          config={'modeBarButtonsToRemove': ['sendDataToCloud', 'lasso2d', 'zoomIn2d', 'zoomOut2d', 'pan2d', \n",
    "                                                             'zoom2d','resetScale2d'], \n",
    "                                'displaylogo': False})\n",
    "                ], style={'width': '50%', 'display': 'inline-block'}),             \n",
    "        ]),\n",
    "    ])\n",
    "@app.callback(\n",
    "\n",
    "    dash.dependencies.Output('indicator-graphic1', 'figure'),\n",
    "    [dash.dependencies.Input('outcome-id', 'value')])\n",
    "def outcome_mexican(outcome_id):\n",
    "    dff = df[['year', 'wbhao_igen', outcome_id]]\n",
    "    dff = dff[(dff.wbhao_igen == 'Mexican 1st Generation') | (dff.wbhao_igen == 'Mexican 2nd Generation')]\n",
    "\n",
    "    lines = {}\n",
    "    data = []\n",
    "    \n",
    "    m_max = dff[outcome_id].max()\n",
    "    m_min = dff[outcome_id].min()\n",
    "    n = df[['year', 'wbhao_igen',outcome_id]]\n",
    "    n = n[(n.wbhao_igen == 'Non-Mexican 1st Generation') | (n.wbhao_igen == 'Non-Mexican 2nd Generation')]\n",
    "    n_max = n[outcome_id].max()\n",
    "    n_min = n[outcome_id].min()\n",
    "    if m_max==n_max:\n",
    "        df_max = m_max\n",
    "    if m_min==n_min:\n",
    "        df_min = m_min\n",
    "    if m_max>n_max:\n",
    "        df_max = m_max\n",
    "    elif m_max<n_max:\n",
    "        df_max = n_max\n",
    "    if m_min>n_min:\n",
    "        df_min = n_min\n",
    "    elif m_min<n_min:\n",
    "        df_min = m_min\n",
    "    if df_min<0.05:\n",
    "        df_min = 0        \n",
    "    y_axis = {'title': '{0}'.format(outcome_id), \n",
    "              'hoverformat': ',.2f',\n",
    "              'range': [df_min, df_max]}         \n",
    "        \n",
    "    legends={'orientation': 'h', 'xanchor': 'center', 'x': '0.5', 'y': '-0.22'}\n",
    "  \n",
    "    generations = list(dff.wbhao_igen.unique())\n",
    "    for gen in generations:\n",
    "        if '1st' in gen:\n",
    "             lines = dict(\n",
    "                 color = (\"#6b6ecf\"),\n",
    "                 width = 3)\n",
    "        if '2nd' in gen:\n",
    "             lines = dict(\n",
    "                 color = (\"#80b1d3\"),\n",
    "                 width = 3)\n",
    "        trace = go.Scatter(\n",
    "            x = dff[dff.wbhao_igen == gen]['year'],\n",
    "            y = dff[dff.wbhao_igen == gen][outcome_id],\n",
    "            mode='lines',\n",
    "            name = gen,\n",
    "            line = lines,\n",
    "            opacity = 0.8\n",
    "            )\n",
    "        \n",
    "        data.append(trace)\n",
    "\n",
    "\n",
    "    return {\n",
    "        'data' : data,\n",
    "        'layout' : go.Layout(\n",
    "            title='Mexican',\n",
    "            titlefont=dict(\n",
    "                        family='Georgia'),\n",
    "            xaxis={'title': 'Year'},\n",
    "            yaxis=y_axis,\n",
    "            legend = legends\n",
    "        )\n",
    "    }\n",
    "\n",
    "@app.callback(\n",
    "\n",
    "    dash.dependencies.Output('indicator-graphic2', 'figure'),\n",
    "    [dash.dependencies.Input('outcome-id', 'value')])\n",
    "def outcome_nonmexican(outcome_id):\n",
    "    dff = df[['year', 'wbhao_igen', outcome_id]]\n",
    "    dff = dff[(dff.wbhao_igen == 'Non-Mexican 1st Generation') | (dff.wbhao_igen == 'Non-Mexican 2nd Generation')]\n",
    "\n",
    "    lines = {}\n",
    "    data = []\n",
    "    \n",
    "    n_max = dff[outcome_id].max()\n",
    "    n_min = dff[outcome_id].min()\n",
    "    m = df[['year', 'wbhao_igen', outcome_id]]\n",
    "    m = m[(m.wbhao_igen == 'Mexican 1st Generation') | (m.wbhao_igen == 'Mexican 2nd Generation')]\n",
    "    m_max = m[outcome_id].max()\n",
    "    m_min = m[outcome_id].min()\n",
    "    if m_max==n_max:\n",
    "        df_max = m_max\n",
    "    if m_min==n_min:\n",
    "        df_min = m_min\n",
    "    if n_max>m_max:\n",
    "        df_max = n_max\n",
    "    elif n_max<m_max:\n",
    "        df_max = m_max\n",
    "    if n_min>m_min:\n",
    "        df_min = m_min\n",
    "    elif n_min<m_min:\n",
    "        df_min = n_min\n",
    "    if df_min<0.05:\n",
    "        df_min = 0\n",
    "        \n",
    "    y_axis = {'title': '{0}'.format(outcome_id), \n",
    "              'hoverformat': ',.2f',\n",
    "              'range': [df_min, df_max]}         \n",
    "    legends={'orientation': 'h', 'xanchor': 'center', 'x': '0.5', 'y': '-0.22'}\n",
    " \n",
    "    generations = list(dff.wbhao_igen.unique())\n",
    "    for gen in generations:\n",
    "        if '1st' in gen:\n",
    "             lines = dict(\n",
    "                 color = (\"#6b6ecf\"),\n",
    "                 width = 3)\n",
    "        if '2nd' in gen:\n",
    "             lines = dict(\n",
    "                 color = (\"#80b1d3\"),\n",
    "                 width = 3)\n",
    "        trace = go.Scatter(\n",
    "            x = dff[dff.wbhao_igen == gen]['year'],\n",
    "            y = dff[dff.wbhao_igen == gen][outcome_id],\n",
    "            mode='lines',\n",
    "            name = gen,\n",
    "            line = lines,\n",
    "            opacity = 0.8\n",
    "            )\n",
    "        \n",
    "        data.append(trace)\n",
    "\n",
    "\n",
    "    return {\n",
    "        'data' : data,\n",
    "        'layout' : go.Layout(\n",
    "            title = 'Non-Mexican',\n",
    "            titlefont=dict(\n",
    "                        family='Georgia'),\n",
    "            xaxis={'title': 'Year'},\n",
    "            yaxis=y_axis,\n",
    "            legend = legends\n",
    "        )\n",
    "    }\n",
    "    \n",
    "if __name__ == '__main__':\n",
    "    app.run_server()"
   ]
  },
  {
   "cell_type": "code",
   "execution_count": null,
   "metadata": {
    "collapsed": true
   },
   "outputs": [],
   "source": []
  }
 ],
 "metadata": {
  "kernelspec": {
   "display_name": "Python 3",
   "language": "python",
   "name": "python3"
  },
  "language_info": {
   "codemirror_mode": {
    "name": "ipython",
    "version": 3
   },
   "file_extension": ".py",
   "mimetype": "text/x-python",
   "name": "python",
   "nbconvert_exporter": "python",
   "pygments_lexer": "ipython3",
   "version": "3.6.0"
  }
 },
 "nbformat": 4,
 "nbformat_minor": 2
}
