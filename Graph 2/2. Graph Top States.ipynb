{
 "cells": [
  {
   "cell_type": "markdown",
   "metadata": {},
   "source": [
    "# Immigrant Project \n",
    "\n",
    "### Cross-Generational Differences in Hispanic Outcomes\n",
    "\n",
    "1.\tCross-Generational Differences in Hispanic Outcomes, 1994-2016: use main_national again, and plot the values for **white-All; Hispanic-All; Hispanic, 1st; Hispanic, 2nd; and Hispanic, 3rd** for each outcome listed above other than gen1-gen3. \n",
    "2.\tCross-Generational Differences in Hispanic Outcomes in Top Immigration States, 1994-2016: similar to (2) broken down by state, side-by-side would be great other than gen1-gen3.\n",
    "\n",
    "  * LTHS: “% less than HS diploma”\n",
    "  * College: “% with college degree”\n",
    "  *\tHinsured: “% with health insurance”\n",
    "  * rincp_all: “Average individual real income”\n",
    "  *\temployed: “% employed”\n",
    "  *\tmarried2: “% married”\n",
    "  *\tchildren: “% with children”\n",
    "  * poverty; (% of families under the poverty line)\n",
    "  * age; (Average age)\n",
    "  * rinch_all; (median household income);"
   ]
  },
  {
   "cell_type": "markdown",
   "metadata": {},
   "source": [
    "## Clean Data"
   ]
  },
  {
   "cell_type": "code",
   "execution_count": 1,
   "metadata": {},
   "outputs": [],
   "source": [
    "import pandas as pd\n",
    "import os\n",
    "import plotly.graph_objs as go\n",
    "import dash\n",
    "import dash_core_components as dcc\n",
    "import dash_html_components as html\n",
    "from dash.dependencies import Input, Output, State"
   ]
  },
  {
   "cell_type": "code",
   "execution_count": 1,
   "metadata": {},
   "outputs": [
    {
     "ename": "NameError",
     "evalue": "name 'os' is not defined",
     "output_type": "error",
     "traceback": [
      "\u001b[1;31m---------------------------------------------------------------------------\u001b[0m",
      "\u001b[1;31mNameError\u001b[0m                                 Traceback (most recent call last)",
      "\u001b[1;32m<ipython-input-1-437952c1a9be>\u001b[0m in \u001b[0;36m<module>\u001b[1;34m()\u001b[0m\n\u001b[1;32m----> 1\u001b[1;33m \u001b[0mos\u001b[0m\u001b[1;33m.\u001b[0m\u001b[0mchdir\u001b[0m\u001b[1;33m(\u001b[0m\u001b[1;34mr'H:\\CALDER\\CALDER Data Visualizations\\Data\\Immigrant Project'\u001b[0m\u001b[1;33m)\u001b[0m\u001b[1;33m\u001b[0m\u001b[0m\n\u001b[0m",
      "\u001b[1;31mNameError\u001b[0m: name 'os' is not defined"
     ]
    }
   ],
   "source": [
    "os.chdir(r'H:\\CALDER\\CALDER Data Visualizations\\Data\\Immigrant Project')"
   ]
  },
  {
   "cell_type": "code",
   "execution_count": null,
   "metadata": {},
   "outputs": [],
   "source": [
    "state = pd.read_csv('main_topstates.csv')"
   ]
  },
  {
   "cell_type": "code",
   "execution_count": null,
   "metadata": {},
   "outputs": [],
   "source": [
    "state = state.sort_values(by=['year', 'state', 'wbhao'])\n",
    "state.head(9)"
   ]
  },
  {
   "cell_type": "code",
   "execution_count": null,
   "metadata": {},
   "outputs": [],
   "source": [
    "# Rename Columns\n",
    "pre = ['lths', 'college', 'hinsured', 'employed', 'married2', 'children', 'gen1', 'gen2', 'gen3','rincp_all']\n",
    "post = [\"% less than High School diploma\", \"% with College Degree\", \"% with Health Insurance\", \"% Employed\", \"% Married\", \n",
    "        \"% with Children\", \"Share of 1st Generation\", \"Share of 2nd Generation\", \"Share of 3rd Generation\", \n",
    "        \"Median Individual Real Income\"]\n",
    "for i in range(0, len(pre)):   \n",
    "    state.rename(columns={pre[i]: post[i]}, inplace=True)\n",
    "\n",
    "state.columns"
   ]
  },
  {
   "cell_type": "code",
   "execution_count": null,
   "metadata": {},
   "outputs": [],
   "source": [
    "state['wbhao_igen'] = state['wbhao'] + ' ' + state['igen']"
   ]
  },
  {
   "cell_type": "code",
   "execution_count": null,
   "metadata": {},
   "outputs": [],
   "source": [
    "state = state.drop(state[(state.wbhao_igen == 'White 1st Generation') | (state.wbhao_igen == 'White 2nd Generation')\n",
    "                       | (state.wbhao_igen == 'White 3rd Generation')].index)"
   ]
  },
  {
   "cell_type": "code",
   "execution_count": null,
   "metadata": {},
   "outputs": [],
   "source": [
    "state = state.drop(['Share of 1st Generation','Share of 2nd Generation', 'Share of 3rd Generation'], axis=1)"
   ]
  },
  {
   "cell_type": "markdown",
   "metadata": {},
   "source": [
    "## Append \"main_national\" data set\n",
    "\n",
    "You will be able to select the national data along with the state data using the \"state\" column. "
   ]
  },
  {
   "cell_type": "markdown",
   "metadata": {},
   "source": [
    "### Import and Clean \"top_state\" data"
   ]
  },
  {
   "cell_type": "code",
   "execution_count": null,
   "metadata": {},
   "outputs": [],
   "source": [
    "nat = pd.read_csv('main_national.csv')"
   ]
  },
  {
   "cell_type": "code",
   "execution_count": null,
   "metadata": {},
   "outputs": [],
   "source": [
    "nat = nat.sort_values(by=['year', 'wbhao', 'igen'])\n",
    "nat.head(9)"
   ]
  },
  {
   "cell_type": "code",
   "execution_count": null,
   "metadata": {},
   "outputs": [],
   "source": [
    "# Rename Columns\n",
    "pre = ['lths', 'college', 'hinsured', 'employed', 'married2', 'children', 'gen1', 'gen2', 'gen3','rincp_all']\n",
    "post = [\"% less than High School diploma\", \"% with College Degree\", \"% with Health Insurance\", \"% Employed\", \"% Married\", \n",
    "        \"% with Children\", \"Share of 1st Generation\", \"Share of 2nd Generation\", \"Share of 3rd Generation\", \n",
    "        \"Median Individual Real Income\"]\n",
    "for i in range(0, len(pre)):   \n",
    "    nat.rename(columns={pre[i]: post[i]}, inplace=True)\n",
    "\n",
    "nat.columns"
   ]
  },
  {
   "cell_type": "code",
   "execution_count": null,
   "metadata": {},
   "outputs": [],
   "source": [
    "nat['wbhao_igen'] = nat['wbhao'] + ' ' + nat['igen']"
   ]
  },
  {
   "cell_type": "code",
   "execution_count": null,
   "metadata": {},
   "outputs": [],
   "source": [
    "nat = nat.drop(nat[(nat.wbhao_igen == 'White 1st Generation') | (nat.wbhao_igen == 'White 2nd Generation')\n",
    "                       | (nat.wbhao_igen == 'White 3rd Generation')].index)"
   ]
  },
  {
   "cell_type": "code",
   "execution_count": null,
   "metadata": {},
   "outputs": [],
   "source": [
    "nat = nat.drop(['Share of 1st Generation','Share of 2nd Generation', 'Share of 3rd Generation'], axis=1)"
   ]
  },
  {
   "cell_type": "code",
   "execution_count": null,
   "metadata": {},
   "outputs": [],
   "source": [
    "nat['state'] = 'National'"
   ]
  },
  {
   "cell_type": "markdown",
   "metadata": {},
   "source": [
    "### Append"
   ]
  },
  {
   "cell_type": "code",
   "execution_count": null,
   "metadata": {},
   "outputs": [],
   "source": [
    "append = nat.append(state)"
   ]
  },
  {
   "cell_type": "code",
   "execution_count": null,
   "metadata": {},
   "outputs": [],
   "source": [
    "append = append.sort_values(by=['year', 'wbhao', 'igen'])"
   ]
  },
  {
   "cell_type": "code",
   "execution_count": null,
   "metadata": {
    "scrolled": true
   },
   "outputs": [],
   "source": [
    "append.head(8)"
   ]
  },
  {
   "cell_type": "markdown",
   "metadata": {},
   "source": [
    "## Export data\n",
    "\n",
    "Export to git repository"
   ]
  },
  {
   "cell_type": "code",
   "execution_count": null,
   "metadata": {},
   "outputs": [],
   "source": [
    "os.chdir('H:\\CALDER\\CALDER Data Visualizations\\Git\\Immigrant-Project\\Graph 2')"
   ]
  },
  {
   "cell_type": "code",
   "execution_count": null,
   "metadata": {},
   "outputs": [],
   "source": [
    "append.to_csv('clean_national_topstates.csv')"
   ]
  },
  {
   "cell_type": "markdown",
   "metadata": {},
   "source": [
    "## Graph"
   ]
  },
  {
   "cell_type": "code",
   "execution_count": 2,
   "metadata": {},
   "outputs": [
    {
     "name": "stderr",
     "output_type": "stream",
     "text": [
      " * Running on http://127.0.0.1:8050/ (Press CTRL+C to quit)\n",
      "127.0.0.1 - - [06/Apr/2018 10:59:56] \"GET / HTTP/1.1\" 200 -\n",
      "127.0.0.1 - - [06/Apr/2018 10:59:57] \"GET /_dash-layout HTTP/1.1\" 200 -\n",
      "127.0.0.1 - - [06/Apr/2018 10:59:57] \"GET /_dash-dependencies HTTP/1.1\" 200 -\n",
      "127.0.0.1 - - [06/Apr/2018 10:59:57] \"POST /_dash-update-component HTTP/1.1\" 200 -\n",
      "127.0.0.1 - - [06/Apr/2018 10:59:57] \"POST /_dash-update-component HTTP/1.1\" 200 -\n",
      "127.0.0.1 - - [06/Apr/2018 10:59:57] \"GET /favicon.ico HTTP/1.1\" 200 -\n"
     ]
    }
   ],
   "source": [
    "app = dash.Dash()\n",
    "\n",
    "app.css.append_css({\"external_url\": \"https://codepen.io/chriddyp/pen/bWLwgP.css\"}) \n",
    "\n",
    "# df = append\n",
    "df = pd.read_csv('https://raw.githubusercontent.com/otteheng/Immigrant-Project/master/Graph%202/clean_national_topstates.csv')\n",
    "\n",
    "states = list(df['state'].unique())\n",
    "outcomes = [\"% less than High School diploma\", \"% with College Degree\", \"% with Health Insurance\", \"% Employed\", \n",
    "            \"% Married\", \"% with Children\", \"% of Families under the Poverty Line\", \"Median Individual Real Income\"]\n",
    "\n",
    "# Organize where items will be on the page\n",
    "app.layout = html.Div([\n",
    "        html.H3(\n",
    "            children='Cross-Generational Differences in Hispanic Outcomes, 1994-2016',\n",
    "            style={\n",
    "                'textAlign': 'center', 'fontFamily' : 'Georgia'\n",
    "            }\n",
    "        ),\n",
    "        html.Div([\n",
    "            html.Div([\n",
    "                    html.Center([          \n",
    "                        html.Div([\n",
    "                            html.Div([html.P('Select State',id='state-title1')],\n",
    "                                style={'textAlign': 'center', 'fontFamily': 'Georgia'}),\n",
    "                            dcc.Dropdown(\n",
    "                                id='state-id1',\n",
    "                                options=[{'label': i, 'value': i} for i in states],\n",
    "                                value='California')\n",
    "                            ],style={'width': '40%','textAlign': 'center', 'fontFamily': 'Georgia', 'display': 'inline-block'}),        \n",
    "                        html.Div([\n",
    "                            html.Div([html.P('Select Outcome',id='outcome-title1')],\n",
    "                                style={'textAlign': 'center', 'fontFamily': 'Georgia'}),\n",
    "                            dcc.Dropdown(\n",
    "                                id='outcome-id1',\n",
    "                                options=[{'label': i, 'value': i} for i in outcomes],\n",
    "                                value='% less than High School diploma')\n",
    "                            ],style={'width': '40%','textAlign': 'center', 'fontFamily': 'Georgia', 'display': 'inline-block'}),\n",
    "                        ]),\n",
    "\n",
    "                dcc.Graph(id='indicator-graphic1',\n",
    "                          config={'modeBarButtonsToRemove': ['sendDataToCloud', 'lasso2d', 'zoomIn2d', 'zoomOut2d', 'pan2d', \n",
    "                                                             'zoom2d','resetScale2d'], \n",
    "                                'displaylogo': False})\n",
    "                ], style={'width': '50%', 'display': 'inline-block'}),  \n",
    "            html.Div([\n",
    "                    html.Center([          \n",
    "                        html.Div([\n",
    "                            html.Div([html.P('Select State',id='state-title2')],\n",
    "                                style={'textAlign': 'center', 'fontFamily': 'Georgia'}),\n",
    "                            dcc.Dropdown(\n",
    "                                id='state-id2',\n",
    "                                options=[{'label': i, 'value': i} for i in states],\n",
    "                                value='Texas')\n",
    "                            ],style={'width': '40%','textAlign': 'center', 'fontFamily': 'Georgia', 'display': 'inline-block'}),        \n",
    "                        html.Div([\n",
    "                            html.Div([html.P('Select Outcome',id='outcome-title2')],\n",
    "                                style={'textAlign': 'center', 'fontFamily': 'Georgia'}),\n",
    "                            dcc.Dropdown(\n",
    "                                id='outcome-id2',\n",
    "                                options=[{'label': i, 'value': i} for i in outcomes],\n",
    "                                value='% less than High School diploma')\n",
    "                            ],style={'width': '40%','textAlign': 'center', 'fontFamily': 'Georgia', 'display': 'inline-block'}),\n",
    "                        ]),\n",
    "\n",
    "                dcc.Graph(id='indicator-graphic2',\n",
    "                          config={'modeBarButtonsToRemove': ['sendDataToCloud', 'lasso2d', 'zoomIn2d', 'zoomOut2d', 'pan2d', \n",
    "                                                             'zoom2d','resetScale2d'], \n",
    "                                'displaylogo': False})\n",
    "                ], style={'width': '50%', 'display': 'inline-block'}),             \n",
    "        ]),\n",
    "    ])\n",
    "@app.callback(\n",
    "\n",
    "    dash.dependencies.Output('indicator-graphic1', 'figure'),\n",
    "    [dash.dependencies.Input('outcome-id1', 'value'),\n",
    "     dash.dependencies.Input('state-id1', 'value'),\n",
    "     dash.dependencies.Input('outcome-id2', 'value'),\n",
    "     dash.dependencies.Input('state-id2', 'value')])\n",
    "def outcome_time_series1(outcome_id, state_id, outcome_id2, state_id2):\n",
    "    dff = df[['year', 'wbhao_igen', 'state',outcome_id]]\n",
    "    dff = dff[dff['state'] == state_id]\n",
    "    \n",
    "    lines = {}\n",
    "    data = []\n",
    "    y_axis = {}\n",
    "    legends={'orientation': 'h', 'xanchor': 'center', 'x': '0.5', 'y': '-0.22'}\n",
    "    \n",
    "    # Sets the range in each graph contingent on the other graphs options.\n",
    "    if outcome_id==outcome_id2:\n",
    "        graph2 = df[['year', 'wbhao_igen', 'state', outcome_id2]]\n",
    "        graph2 = graph2[graph2['state'] == state_id2]\n",
    "\n",
    "        dff_min = dff[outcome_id].min()\n",
    "        dff_max = dff[outcome_id].max()\n",
    "        if dff_min>graph2[outcome_id2].min():\n",
    "            dff_min = dff[outcome_id].min()\n",
    "        else:\n",
    "            dff_min = dff[outcome_id2].min()\n",
    "        if dff_max<graph2[outcome_id2].max():\n",
    "            dff_max = graph2[outcome_id2].max()\n",
    "        else:\n",
    "            dff_max = dff[outcome_id].max()\n",
    "\n",
    "        if dff_min<.05 or graph2[outcome_id2].min()<.05:\n",
    "            dff_min = 0\n",
    "\n",
    "        ranges = [dff_min, dff_max]\n",
    "    elif outcome_id!=outcome_id2:\n",
    "        ranges = []\n",
    "    \n",
    "    # Show three lines for each output\n",
    "    generation = ['White All','Hispanic All', 'Hispanic 1st Generation', 'Hispanic 2nd Generation', \n",
    "                  'Hispanic 3rd Generation']\n",
    "    for gen in generation:\n",
    "        if '1st' in gen:\n",
    "             lines = dict(\n",
    "                 color = (\"#6b6ecf\"),\n",
    "                 width = 2,\n",
    "                 dash = 'dash')\n",
    "        if '2nd' in gen:\n",
    "             lines = dict(\n",
    "                 color = (\"#80b1d3\"),\n",
    "                 width = 2,\n",
    "                 dash = 'dash')              \n",
    "        if '3rd' in gen:\n",
    "             lines = dict(\n",
    "                 color = (\"#fdb462\"),\n",
    "                 width = 2,\n",
    "                 dash = 'dash')\n",
    "        if 'White All' in gen:\n",
    "              lines = dict(\n",
    "                 color = (\"#333333\"),\n",
    "                 width = 3)\n",
    "        if 'Hispanic All' in gen:\n",
    "               lines = dict(\n",
    "                 color = (\"#fb8072\"),\n",
    "                 width = 3)\n",
    "        trace = go.Scatter(\n",
    "            x = dff[dff['wbhao_igen']==gen]['year'],\n",
    "            y = dff[dff['wbhao_igen']==gen][outcome_id],\n",
    "            mode='lines',\n",
    "            name = gen,\n",
    "            line = lines,\n",
    "            opacity = 0.8\n",
    "            )\n",
    "        \n",
    "        data.append(trace)\n",
    "    if '%' in outcome_id:\n",
    "        y_axis = {'title': '{0}'.format(outcome_id), \n",
    "                  'hoverformat': ',.2f',\n",
    "                  'range' : ranges}\n",
    "    else:\n",
    "         y_axis = {'title': '{0}'.format(outcome_id), \n",
    "                  'hoverformat': ',.2f'}    \n",
    "    return {\n",
    "        'data' : data,\n",
    "        'layout' : go.Layout(\n",
    "            xaxis={'title': 'Year'},\n",
    "            yaxis=y_axis,\n",
    "            legend=legends,\n",
    "        )\n",
    "    }\n",
    "\n",
    "@app.callback(\n",
    "\n",
    "    dash.dependencies.Output('indicator-graphic2', 'figure'),\n",
    "    [dash.dependencies.Input('outcome-id2', 'value'),\n",
    "     dash.dependencies.Input('state-id2', 'value'),\n",
    "     dash.dependencies.Input('outcome-id1', 'value'),\n",
    "     dash.dependencies.Input('state-id1', 'value')])\n",
    "def outcome_time_series2(outcome_id, state_id, outcome_id1, state_id1):\n",
    "    dff = df[['year', 'wbhao_igen', 'state',outcome_id]]\n",
    "    dff = dff[dff['state'] == state_id]\n",
    "    lines = {}\n",
    "    data = []\n",
    "    y_axis = {}\n",
    "    legends={'orientation': 'h', 'xanchor': 'center', 'x': '0.5', 'y': '-0.22'}\n",
    "\n",
    "    # Sets the range in each graph contingent on the other graphs options.\n",
    "    if outcome_id==outcome_id1:\n",
    "        graph1 = df[['year', 'wbhao_igen', 'state', outcome_id1]]\n",
    "        graph1 = graph1[graph1['state'] == state_id1]\n",
    "        dff_min = dff[outcome_id].min()\n",
    "        dff_max = dff[outcome_id].max()\n",
    "        if dff_min>graph1[outcome_id1].min():\n",
    "            dff_min = graph1[outcome_id].min()\n",
    "        else:\n",
    "            dff_min = dff[outcome_id1].min()\n",
    "        if dff_max<graph1[outcome_id1].max():\n",
    "            dff_max = graph1[outcome_id1].max()\n",
    "        else:\n",
    "            dff_max = dff[outcome_id].max()\n",
    "        if dff_min<.05 or graph1[outcome_id1].min()<.05:\n",
    "            dff_min = 0\n",
    "\n",
    "        ranges = [dff_min, dff_max]  \n",
    "    elif outcome_id!=outcome_id1:\n",
    "        ranges = []\n",
    "        \n",
    "    y_axis = {'title': '{0}'.format(outcome_id), \n",
    "              'hoverformat': ',.2f',\n",
    "              'range': ranges\n",
    "            }\n",
    "    \n",
    "    # Show 3 lines for each output\n",
    "    generation = ['White All','Hispanic All', 'Hispanic 1st Generation', 'Hispanic 2nd Generation', \n",
    "                  'Hispanic 3rd Generation']\n",
    "    for gen in generation:\n",
    "        if '1st' in gen:\n",
    "             lines = dict(\n",
    "                 color = (\"#6b6ecf\"),\n",
    "                 width = 2,\n",
    "                 dash = 'dash')\n",
    "        if '2nd' in gen:\n",
    "             lines = dict(\n",
    "                 color = (\"#80b1d3\"),\n",
    "                 width = 2,\n",
    "                 dash = 'dash')              \n",
    "        if '3rd' in gen:\n",
    "             lines = dict(\n",
    "                 color = (\"#fdb462\"),\n",
    "                 width = 2,\n",
    "                 dash = 'dash')\n",
    "        if 'White All' in gen:\n",
    "              lines = dict(\n",
    "                 color = (\"#333333\"),\n",
    "                 width = 3)\n",
    "        if 'Hispanic All' in gen:\n",
    "               lines = dict(\n",
    "                 color = (\"#fb8072\"),\n",
    "                 width = 3)\n",
    "        trace = go.Scatter(\n",
    "            x = dff[dff['wbhao_igen']==gen]['year'],\n",
    "            y = dff[dff['wbhao_igen']==gen][outcome_id],\n",
    "            mode='lines',\n",
    "            name = gen,\n",
    "            line = lines,\n",
    "            opacity = 0.8\n",
    "            )\n",
    "        \n",
    "        data.append(trace)\n",
    "    \n",
    "\n",
    "    return {\n",
    "        'data' : data,\n",
    "        'layout' : go.Layout(\n",
    "            xaxis={'title': 'Year'},\n",
    "            yaxis=y_axis,\n",
    "            legend=legends\n",
    "        )\n",
    "    }\n",
    "    \n",
    "if __name__ == '__main__':\n",
    "    app.run_server()"
   ]
  }
 ],
 "metadata": {
  "kernelspec": {
   "display_name": "Python 3",
   "language": "python",
   "name": "python3"
  },
  "language_info": {
   "codemirror_mode": {
    "name": "ipython",
    "version": 3
   },
   "file_extension": ".py",
   "mimetype": "text/x-python",
   "name": "python",
   "nbconvert_exporter": "python",
   "pygments_lexer": "ipython3",
   "version": "3.6.1"
  }
 },
 "nbformat": 4,
 "nbformat_minor": 2
}
